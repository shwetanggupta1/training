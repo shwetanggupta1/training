{
 "cells": [
  {
   "cell_type": "code",
   "execution_count": 1,
   "id": "91553401",
   "metadata": {},
   "outputs": [
    {
     "name": "stdout",
     "output_type": "stream",
     "text": [
      "Collecting requests\n",
      "  Downloading requests-2.25.1-py2.py3-none-any.whl (61 kB)\n",
      "Collecting idna<3,>=2.5\n",
      "  Downloading idna-2.10-py2.py3-none-any.whl (58 kB)\n",
      "Collecting certifi>=2017.4.17\n",
      "  Downloading certifi-2021.5.30-py2.py3-none-any.whl (145 kB)\n",
      "Collecting urllib3<1.27,>=1.21.1\n",
      "  Downloading urllib3-1.26.6-py2.py3-none-any.whl (138 kB)\n",
      "Collecting chardet<5,>=3.0.2\n",
      "  Downloading chardet-4.0.0-py2.py3-none-any.whl (178 kB)\n",
      "Installing collected packages: urllib3, idna, chardet, certifi, requests\n",
      "Successfully installed certifi-2021.5.30 chardet-4.0.0 idna-2.10 requests-2.25.1 urllib3-1.26.6\n"
     ]
    }
   ],
   "source": [
    "!pip install requests --upgrade"
   ]
  },
  {
   "cell_type": "code",
   "execution_count": 2,
   "id": "b09f77b6",
   "metadata": {},
   "outputs": [],
   "source": [
    "import requests\n",
    "from pprint import pprint\n",
    "import json"
   ]
  },
  {
   "cell_type": "code",
   "execution_count": 4,
   "id": "654eb601",
   "metadata": {},
   "outputs": [
    {
     "name": "stdout",
     "output_type": "stream",
     "text": [
      "2.25.1\n"
     ]
    }
   ],
   "source": [
    "print(requests.__version__)"
   ]
  },
  {
   "cell_type": "code",
   "execution_count": 5,
   "id": "af59d190",
   "metadata": {},
   "outputs": [
    {
     "name": "stdout",
     "output_type": "stream",
     "text": [
      "Copyright 2020 Kenneth Reitz\n"
     ]
    }
   ],
   "source": [
    "print(requests.__copyright__)"
   ]
  },
  {
   "cell_type": "code",
   "execution_count": 6,
   "id": "5b2c1e8b",
   "metadata": {},
   "outputs": [],
   "source": [
    "import webbrowser\n"
   ]
  },
  {
   "cell_type": "code",
   "execution_count": 7,
   "id": "caae752f",
   "metadata": {},
   "outputs": [],
   "source": [
    "url=\"https://en.wikipedia.org/\""
   ]
  },
  {
   "cell_type": "code",
   "execution_count": 8,
   "id": "43b12490",
   "metadata": {},
   "outputs": [],
   "source": [
    "resp_obj=requests.get(url)"
   ]
  },
  {
   "cell_type": "code",
   "execution_count": 9,
   "id": "da6d5e34",
   "metadata": {},
   "outputs": [
    {
     "name": "stdout",
     "output_type": "stream",
     "text": [
      "https://en.wikipedia.org/wiki/Main_Page\n"
     ]
    }
   ],
   "source": [
    "print(resp_obj.url)"
   ]
  },
  {
   "cell_type": "code",
   "execution_count": 10,
   "id": "b73a2fd9",
   "metadata": {},
   "outputs": [
    {
     "data": {
      "text/plain": [
       "True"
      ]
     },
     "execution_count": 10,
     "metadata": {},
     "output_type": "execute_result"
    }
   ],
   "source": [
    "webbrowser.open(resp_obj.url)"
   ]
  },
  {
   "cell_type": "code",
   "execution_count": null,
   "id": "d9ba6695",
   "metadata": {},
   "outputs": [],
   "source": []
  }
 ],
 "metadata": {
  "kernelspec": {
   "display_name": "Python 3 (ipykernel)",
   "language": "python",
   "name": "python3"
  },
  "language_info": {
   "codemirror_mode": {
    "name": "ipython",
    "version": 3
   },
   "file_extension": ".py",
   "mimetype": "text/x-python",
   "name": "python",
   "nbconvert_exporter": "python",
   "pygments_lexer": "ipython3",
   "version": "3.9.6"
  }
 },
 "nbformat": 4,
 "nbformat_minor": 5
}
