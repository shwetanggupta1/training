{
 "cells": [
  {
   "cell_type": "code",
   "execution_count": 5,
   "id": "4fe64b2f",
   "metadata": {},
   "outputs": [
    {
     "data": {
      "text/plain": [
       "['this', 'is', 'a', 'very', 'grateful', 'thought']"
      ]
     },
     "execution_count": 5,
     "metadata": {},
     "output_type": "execute_result"
    }
   ],
   "source": [
    "#split and join \n",
    "a=string.split()\n",
    "a"
   ]
  },
  {
   "cell_type": "code",
   "execution_count": 2,
   "id": "55b3f4f5",
   "metadata": {},
   "outputs": [
    {
     "name": "stdout",
     "output_type": "stream",
     "text": [
      "t\n",
      "this is\n"
     ]
    }
   ],
   "source": [
    "#string slicing and indexing\n",
    "string=\"this is a very grateful thought\"\n",
    "print(string[0])\n",
    "print(string[0:7])"
   ]
  },
  {
   "cell_type": "code",
   "execution_count": 9,
   "id": "812f8599",
   "metadata": {},
   "outputs": [
    {
     "data": {
      "text/plain": [
       "'this is a very grateful thought'"
      ]
     },
     "execution_count": 9,
     "metadata": {},
     "output_type": "execute_result"
    }
   ],
   "source": [
    "b=' '.join(a)\n",
    "b"
   ]
  },
  {
   "cell_type": "code",
   "execution_count": 11,
   "id": "aa511dd6",
   "metadata": {},
   "outputs": [
    {
     "name": "stdout",
     "output_type": "stream",
     "text": [
      "Gujarat\n",
      "Maharashtra\n",
      "Rajasthan\n",
      "Bihar\n"
     ]
    }
   ],
   "source": [
    "#dictionary\n",
    "statesAndCapitals = {\n",
    "                     'Gujarat' : 'Gandhinagar',\n",
    "                     'Maharashtra' : 'Mumbai',\n",
    "                     'Rajasthan' : 'Jaipur',\n",
    "                     'Bihar' : 'Patna'\n",
    "                    }\n",
    "                      \n",
    "    \n",
    "  \n",
    "\n",
    "for state in statesAndCapitals:\n",
    "    print(state)"
   ]
  },
  {
   "cell_type": "code",
   "execution_count": 9,
   "id": "5a70ea90",
   "metadata": {},
   "outputs": [
    {
     "data": {
      "text/plain": [
       "[2, 3, 4, 9, 6, 7, 8]"
      ]
     },
     "execution_count": 9,
     "metadata": {},
     "output_type": "execute_result"
    }
   ],
   "source": [
    "#shallow copy and deep copy\n",
    "\n",
    "import copy\n",
    "list1=[2,3,4,5,6,7,8]\n",
    "\n",
    "li2=copy.copy(list1)\n",
    "li2[3]=9\n",
    "li2\n"
   ]
  },
  {
   "cell_type": "code",
   "execution_count": 10,
   "id": "11d51e56",
   "metadata": {},
   "outputs": [
    {
     "data": {
      "text/plain": [
       "[2, 3, 4, 5, 6, 7, 8]"
      ]
     },
     "execution_count": 10,
     "metadata": {},
     "output_type": "execute_result"
    }
   ],
   "source": [
    "list1"
   ]
  },
  {
   "cell_type": "code",
   "execution_count": null,
   "id": "e8aab859",
   "metadata": {},
   "outputs": [],
   "source": []
  }
 ],
 "metadata": {
  "kernelspec": {
   "display_name": "Python 3 (ipykernel)",
   "language": "python",
   "name": "python3"
  },
  "language_info": {
   "codemirror_mode": {
    "name": "ipython",
    "version": 3
   },
   "file_extension": ".py",
   "mimetype": "text/x-python",
   "name": "python",
   "nbconvert_exporter": "python",
   "pygments_lexer": "ipython3",
   "version": "3.9.6"
  }
 },
 "nbformat": 4,
 "nbformat_minor": 5
}
