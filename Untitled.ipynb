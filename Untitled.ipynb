{
 "cells": [
  {
   "cell_type": "code",
   "execution_count": 4,
   "id": "9424875a",
   "metadata": {},
   "outputs": [
    {
     "name": "stdout",
     "output_type": "stream",
     "text": [
      "30\n"
     ]
    }
   ],
   "source": [
    "import json\n",
    "x =  '{ \"name\":\"John\", \"age\":30, \"city\":\"New York\"}'\n",
    "y = json.loads(x)\n",
    "print(y[\"age\"])"
   ]
  },
  {
   "cell_type": "code",
   "execution_count": 6,
   "id": "ad640962",
   "metadata": {},
   "outputs": [
    {
     "name": "stdout",
     "output_type": "stream",
     "text": [
      "{\"lalalala\": 3}\n"
     ]
    }
   ],
   "source": [
    "a = {'lalalala': 3}\n",
    "myString = json.dumps(a)\n",
    "print (myString)"
   ]
  },
  {
   "cell_type": "code",
   "execution_count": 10,
   "id": "101873ea",
   "metadata": {},
   "outputs": [
    {
     "data": {
      "text/plain": [
       "24"
      ]
     },
     "execution_count": 10,
     "metadata": {},
     "output_type": "execute_result"
    }
   ],
   "source": [
    "age=23\n",
    "def func():\n",
    "    global age\n",
    "    age=24\n",
    "func()\n",
    "age\n",
    "    "
   ]
  },
  {
   "cell_type": "code",
   "execution_count": 1,
   "id": "e427bb10",
   "metadata": {},
   "outputs": [],
   "source": [
    "import re"
   ]
  },
  {
   "cell_type": "code",
   "execution_count": 18,
   "id": "c0afcb33",
   "metadata": {},
   "outputs": [
    {
     "name": "stdout",
     "output_type": "stream",
     "text": [
      "['ate']\n"
     ]
    }
   ],
   "source": [
    "s='This is a very grateful thought'\n",
    "e=re.findall('ate',s)\n",
    "print(e)"
   ]
  },
  {
   "cell_type": "code",
   "execution_count": 7,
   "id": "bb4c1df8",
   "metadata": {},
   "outputs": [
    {
     "data": {
      "text/plain": [
       "[('12', 'asim'), ('13', 'elu'), ('14', 'vinod'), ('19', 'ron')]"
      ]
     },
     "execution_count": 7,
     "metadata": {},
     "output_type": "execute_result"
    }
   ],
   "source": [
    "\n",
    "\n",
    "dic={'12':'asim','14':'vinod','19':'ron','13':'elu'}\n",
    "\n",
    "sorted(dic.items())"
   ]
  },
  {
   "cell_type": "code",
   "execution_count": 14,
   "id": "468b191c",
   "metadata": {},
   "outputs": [
    {
     "name": "stdout",
     "output_type": "stream",
     "text": [
      "12 4 6 8 "
     ]
    }
   ],
   "source": [
    "list1=[12,3,4,5,6,7,8,9]\n",
    "\n",
    "list2=(x for x in list1 if x%2==0)\n",
    "for x in list2:\n",
    "    print(x,end=' ')"
   ]
  },
  {
   "cell_type": "code",
   "execution_count": 23,
   "id": "afd2ada1",
   "metadata": {},
   "outputs": [
    {
     "name": "stdout",
     "output_type": "stream",
     "text": [
      "1\n",
      "2\n",
      "3\n",
      "4\n",
      "5\n",
      "6\n",
      "7\n",
      "8\n",
      "9\n",
      "10\n"
     ]
    }
   ],
   "source": [
    "class topten:\n",
    "    def __init__(self):\n",
    "        self.value=1\n",
    "        \n",
    "    def __iter__(self):\n",
    "        return self\n",
    "    \n",
    "    def __next__(self):\n",
    "        \n",
    "        if self.value<=10:\n",
    "            val=self.value\n",
    "            self.value+=1\n",
    "            \n",
    "            return val\n",
    "    \n",
    "        else:\n",
    "            raise StopIteration\n",
    "            \n",
    "c1=topten()\n",
    "\n",
    "for i in c1:\n",
    "    print(i)\n"
   ]
  },
  {
   "cell_type": "code",
   "execution_count": null,
   "id": "975dfb2a",
   "metadata": {},
   "outputs": [],
   "source": []
  }
 ],
 "metadata": {
  "kernelspec": {
   "display_name": "Python 3 (ipykernel)",
   "language": "python",
   "name": "python3"
  },
  "language_info": {
   "codemirror_mode": {
    "name": "ipython",
    "version": 3
   },
   "file_extension": ".py",
   "mimetype": "text/x-python",
   "name": "python",
   "nbconvert_exporter": "python",
   "pygments_lexer": "ipython3",
   "version": "3.9.6"
  }
 },
 "nbformat": 4,
 "nbformat_minor": 5
}
