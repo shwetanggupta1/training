{
 "cells": [
  {
   "cell_type": "code",
   "execution_count": 3,
   "id": "fe088ead",
   "metadata": {},
   "outputs": [
    {
     "data": {
      "text/plain": [
       "[4, 12, 12]"
      ]
     },
     "execution_count": 3,
     "metadata": {},
     "output_type": "execute_result"
    }
   ],
   "source": [
    "#list comprehension\n",
    "list1=[23,4,5,43,12,67,89,12]\n",
    "list2=[x for x in list1 if x%2==0]\n",
    "list2\n"
   ]
  },
  {
   "cell_type": "code",
   "execution_count": 4,
   "id": "74fe7543",
   "metadata": {},
   "outputs": [
    {
     "data": {
      "text/plain": [
       "{4, 12}"
      ]
     },
     "execution_count": 4,
     "metadata": {},
     "output_type": "execute_result"
    }
   ],
   "source": [
    "#set comprehension\n",
    "list1=[23,4,5,43,12,67,89,12]\n",
    "list2={x for x in list1 if x%2==0}\n",
    "list2"
   ]
  },
  {
   "cell_type": "code",
   "execution_count": 5,
   "id": "1becac57",
   "metadata": {},
   "outputs": [
    {
     "data": {
      "text/plain": [
       "{1: 1, 3: 27, 5: 125, 7: 343}"
      ]
     },
     "execution_count": 5,
     "metadata": {},
     "output_type": "execute_result"
    }
   ],
   "source": [
    "#dictionary comprehension\n",
    "\n",
    "input_list = [1,2,3,4,5,6,7]\n",
    "  \n",
    "dict1 = {var:var ** 3 for var in input_list if var % 2 != 0}\n",
    "\n",
    "dict1\n",
    "\n"
   ]
  },
  {
   "cell_type": "code",
   "execution_count": 7,
   "id": "348df970",
   "metadata": {},
   "outputs": [
    {
     "name": "stdout",
     "output_type": "stream",
     "text": [
      "2 4 4 6 "
     ]
    }
   ],
   "source": [
    "#generator comprehension\n",
    "input_list = [1, 2, 3, 4, 4, 5, 6, 7, 7]\n",
    "  \n",
    "output = (var for var in input_list if var % 2 == 0)\n",
    "for i in output:\n",
    "    print(i,end=\" \")"
   ]
  },
  {
   "cell_type": "code",
   "execution_count": null,
   "id": "99e13ef0",
   "metadata": {},
   "outputs": [],
   "source": []
  }
 ],
 "metadata": {
  "kernelspec": {
   "display_name": "Python 3 (ipykernel)",
   "language": "python",
   "name": "python3"
  },
  "language_info": {
   "codemirror_mode": {
    "name": "ipython",
    "version": 3
   },
   "file_extension": ".py",
   "mimetype": "text/x-python",
   "name": "python",
   "nbconvert_exporter": "python",
   "pygments_lexer": "ipython3",
   "version": "3.9.6"
  }
 },
 "nbformat": 4,
 "nbformat_minor": 5
}
