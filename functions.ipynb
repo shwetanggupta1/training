{
 "cells": [
  {
   "cell_type": "code",
   "execution_count": 1,
   "id": "9bdc6159",
   "metadata": {},
   "outputs": [
    {
     "name": "stdout",
     "output_type": "stream",
     "text": [
      "Emil Refsnes\n",
      "Tobias Refsnes\n",
      "Linus Refsnes\n"
     ]
    }
   ],
   "source": [
    "#arguments\n",
    "def my_function(fname):\n",
    "  print(fname + \" Refsnes\")\n",
    "\n",
    "my_function(\"Emil\")\n",
    "my_function(\"Tobias\")\n",
    "my_function(\"Linus\")"
   ]
  },
  {
   "cell_type": "code",
   "execution_count": 2,
   "id": "ec84ab0c",
   "metadata": {},
   "outputs": [
    {
     "name": "stdout",
     "output_type": "stream",
     "text": [
      "Sum: 8\n",
      "Sum: 22\n",
      "Sum: 17\n"
     ]
    }
   ],
   "source": [
    "#args \n",
    "\n",
    "def adder(*num):\n",
    "    sum = 0\n",
    "    \n",
    "    for n in num:\n",
    "        sum = sum + n\n",
    "\n",
    "    print(\"Sum:\",sum)\n",
    "\n",
    "adder(3,5)\n",
    "adder(4,5,6,7)\n",
    "adder(1,2,3,5,6)"
   ]
  },
  {
   "cell_type": "code",
   "execution_count": 6,
   "id": "43b337a0",
   "metadata": {},
   "outputs": [
    {
     "name": "stdout",
     "output_type": "stream",
     "text": [
      "{'name': 'mike', 'city': 'boston', 'country': 'america'}\n"
     ]
    }
   ],
   "source": [
    "#kwargs\n",
    "\n",
    "def con(**kwargs):\n",
    "    print(kwargs)\n",
    "con(name='mike',city='boston',country='america')"
   ]
  },
  {
   "cell_type": "code",
   "execution_count": 8,
   "id": "fee1f3c4",
   "metadata": {},
   "outputs": [
    {
     "name": "stdout",
     "output_type": "stream",
     "text": [
      "name mike\n",
      "city boston\n",
      "country america\n"
     ]
    }
   ],
   "source": [
    "def den(**details):\n",
    "    for key,value in details.items():\n",
    "        print(key,value)\n",
    "        \n",
    "den(name='mike',city='boston',country='america')"
   ]
  },
  {
   "cell_type": "code",
   "execution_count": 9,
   "id": "c97b64a2",
   "metadata": {},
   "outputs": [
    {
     "data": {
      "text/plain": [
       "120"
      ]
     },
     "execution_count": 9,
     "metadata": {},
     "output_type": "execute_result"
    }
   ],
   "source": [
    "#recursion\n",
    "\n",
    "def fact(n):\n",
    "    if n==0:\n",
    "        return 0\n",
    "    if n==1:\n",
    "        return 1\n",
    "    else:\n",
    "        return n*fact(n-1)\n",
    "fact(5)"
   ]
  },
  {
   "cell_type": "code",
   "execution_count": 13,
   "id": "4c474400",
   "metadata": {},
   "outputs": [
    {
     "name": "stdout",
     "output_type": "stream",
     "text": [
      "Hello\n"
     ]
    }
   ],
   "source": [
    "def print_msg(msg):\n",
    "\n",
    "\n",
    "    def printer():\n",
    "        # This is the nested function\n",
    "        print(msg)\n",
    "\n",
    "    printer()\n",
    "\n",
    "\n",
    "print_msg(\"Hello\")"
   ]
  },
  {
   "cell_type": "code",
   "execution_count": 14,
   "id": "3cabcc11",
   "metadata": {},
   "outputs": [
    {
     "name": "stdout",
     "output_type": "stream",
     "text": [
      "22\n",
      "33\n"
     ]
    }
   ],
   "source": [
    "#lambda function\n",
    "def myfunc(n):\n",
    "  return lambda a : a * n\n",
    "\n",
    "mydoubler = myfunc(2)\n",
    "mytripler = myfunc(3)\n",
    "\n",
    "print(mydoubler(11))\n",
    "print(mytripler(11))"
   ]
  },
  {
   "cell_type": "code",
   "execution_count": 16,
   "id": "a86d7624",
   "metadata": {},
   "outputs": [
    {
     "name": "stdout",
     "output_type": "stream",
     "text": [
      "25\n"
     ]
    }
   ],
   "source": [
    "#higher order functions\n",
    "\n",
    "def create_adder(x): \n",
    "    def adder(y): \n",
    "        return x + y \n",
    "    \n",
    "    return adder \n",
    "    \n",
    "add_15 = create_adder(15) \n",
    "    \n",
    "print(add_15(10))\n"
   ]
  },
  {
   "cell_type": "code",
   "execution_count": 17,
   "id": "0d015fef",
   "metadata": {},
   "outputs": [
    {
     "name": "stdout",
     "output_type": "stream",
     "text": [
      "0 is an Even Number\n",
      "5 is an Odd Number\n",
      "10 is an Even Number\n",
      "15 is an Odd Number\n",
      "20 is an Even Number\n"
     ]
    }
   ],
   "source": [
    "#iterators\n",
    "\n",
    "\n",
    "a = [0, 5, 10, 15, 20]\n",
    "for i in a:\n",
    "    if i % 2 == 0:\n",
    "        print(str(i)+' is an Even Number')\n",
    "    else:\n",
    "        print(str(i)+' is an Odd Number')"
   ]
  },
  {
   "cell_type": "code",
   "execution_count": 23,
   "id": "3eae41bf",
   "metadata": {},
   "outputs": [
    {
     "name": "stdout",
     "output_type": "stream",
     "text": [
      "1\n",
      "4\n",
      "9\n",
      "16\n",
      "25\n"
     ]
    }
   ],
   "source": [
    "#generators\n",
    "\n",
    "def sq_numbers(n):\n",
    "    for i in range(1, n+1):\n",
    "        yield i*i\n",
    "  \n",
    "  \n",
    "a = sq_numbers(6)\n",
    "  \n",
    "print(next(a))\n",
    "print(next(a))\n",
    "print(next(a))\n",
    "print(next(a))\n",
    "print(next(a))"
   ]
  },
  {
   "cell_type": "code",
   "execution_count": null,
   "id": "45263acb",
   "metadata": {},
   "outputs": [],
   "source": []
  }
 ],
 "metadata": {
  "kernelspec": {
   "display_name": "Python 3 (ipykernel)",
   "language": "python",
   "name": "python3"
  },
  "language_info": {
   "codemirror_mode": {
    "name": "ipython",
    "version": 3
   },
   "file_extension": ".py",
   "mimetype": "text/x-python",
   "name": "python",
   "nbconvert_exporter": "python",
   "pygments_lexer": "ipython3",
   "version": "3.9.6"
  }
 },
 "nbformat": 4,
 "nbformat_minor": 5
}
