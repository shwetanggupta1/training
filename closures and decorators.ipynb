{
 "cells": [
  {
   "cell_type": "code",
   "execution_count": 2,
   "id": "510da9fc",
   "metadata": {},
   "outputs": [
    {
     "name": "stdout",
     "output_type": "stream",
     "text": [
      "Hello sim\n"
     ]
    }
   ],
   "source": [
    "def hello_fun(name):\n",
    "    \n",
    "    def hello():\n",
    "        print('Hello',name)\n",
    "    hello()\n",
    "    \n",
    "    return hello"
   ]
  },
  {
   "cell_type": "code",
   "execution_count": 3,
   "id": "290dbcda",
   "metadata": {},
   "outputs": [
    {
     "name": "stdout",
     "output_type": "stream",
     "text": [
      "Hello him\n"
     ]
    }
   ],
   "source": [
    "d=hello_fun('him')\n"
   ]
  },
  {
   "cell_type": "code",
   "execution_count": 5,
   "id": "39c07e6f",
   "metadata": {},
   "outputs": [
    {
     "name": "stdout",
     "output_type": "stream",
     "text": [
      "Decorators are very useful\n"
     ]
    }
   ],
   "source": [
    "def print_msg():\n",
    "    print('Decorators are very useful')\n",
    "print_msg()"
   ]
  },
  {
   "cell_type": "code",
   "execution_count": 8,
   "id": "7de53a2b",
   "metadata": {},
   "outputs": [
    {
     "name": "stdout",
     "output_type": "stream",
     "text": [
      "$$$$$$$$$$$$$$$$$$$$$$$$$$$$$$$$$$$$$$$$$$$$$$$$$$\n",
      "Decorators are very useful\n",
      "$$$$$$$$$$$$$$$$$$$$$$$$$$$$$$$$$$$$$$$$$$$$$$$$$$\n"
     ]
    }
   ],
   "source": [
    "import random\n",
    "\n",
    "def dec():\n",
    "    \n",
    "    annotations=['#','*','-','$']\n",
    "    annot=random.choice(annotations)\n",
    "    \n",
    "    print(annot*50)\n",
    "    \n",
    "    print_msg()\n",
    "    \n",
    "    print(annot*50)\n",
    "\n",
    "dec()"
   ]
  },
  {
   "cell_type": "code",
   "execution_count": 10,
   "id": "6bc5a9eb",
   "metadata": {},
   "outputs": [
    {
     "name": "stdout",
     "output_type": "stream",
     "text": [
      "yes we did it\n"
     ]
    }
   ],
   "source": [
    "def print_another_msg():\n",
    "    print('yes we did it')\n",
    "print_another_msg()"
   ]
  },
  {
   "cell_type": "code",
   "execution_count": 9,
   "id": "dc825bc0",
   "metadata": {},
   "outputs": [],
   "source": [
    "def make_highlighted_func(func):\n",
    "    annotations=['#','*','-','$']\n",
    "    annot=random.choice(annotations)\n",
    "    \n",
    "    def highlight():\n",
    "        print(annot*50)\n",
    "    \n",
    "        func()\n",
    "    \n",
    "        print(annot*50)\n",
    "    \n",
    "    return highlight\n",
    "        \n",
    "        \n",
    "    "
   ]
  },
  {
   "cell_type": "code",
   "execution_count": 12,
   "id": "68e2aeaa",
   "metadata": {},
   "outputs": [
    {
     "name": "stdout",
     "output_type": "stream",
     "text": [
      "##################################################\n",
      "yes we did it\n",
      "##################################################\n"
     ]
    }
   ],
   "source": [
    "a=make_highlighted_func(print_another_msg)\n",
    "a()"
   ]
  },
  {
   "cell_type": "code",
   "execution_count": 13,
   "id": "fb16d029",
   "metadata": {},
   "outputs": [
    {
     "name": "stdout",
     "output_type": "stream",
     "text": [
      "--------------------------------------------------\n",
      "Decorators are very useful\n",
      "--------------------------------------------------\n"
     ]
    }
   ],
   "source": [
    "b=make_highlighted_func(print_msg)\n",
    "b()"
   ]
  },
  {
   "cell_type": "code",
   "execution_count": null,
   "id": "c81e1ac4",
   "metadata": {},
   "outputs": [],
   "source": []
  }
 ],
 "metadata": {
  "kernelspec": {
   "display_name": "Python 3 (ipykernel)",
   "language": "python",
   "name": "python3"
  },
  "language_info": {
   "codemirror_mode": {
    "name": "ipython",
    "version": 3
   },
   "file_extension": ".py",
   "mimetype": "text/x-python",
   "name": "python",
   "nbconvert_exporter": "python",
   "pygments_lexer": "ipython3",
   "version": "3.9.6"
  }
 },
 "nbformat": 4,
 "nbformat_minor": 5
}
