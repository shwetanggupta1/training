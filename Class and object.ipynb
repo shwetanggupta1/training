{
 "cells": [
  {
   "cell_type": "code",
   "execution_count": 6,
   "id": "11d25bf4",
   "metadata": {},
   "outputs": [
    {
     "ename": "AttributeError",
     "evalue": "'generator' object has no attribute 'next'",
     "output_type": "error",
     "traceback": [
      "\u001b[1;31m---------------------------------------------------------------------------\u001b[0m",
      "\u001b[1;31mAttributeError\u001b[0m                            Traceback (most recent call last)",
      "\u001b[1;32mC:\\Users\\SWETAN~1.GUP\\AppData\\Local\\Temp/ipykernel_12832/355205516.py\u001b[0m in \u001b[0;36m<module>\u001b[1;34m\u001b[0m\n\u001b[0;32m      8\u001b[0m         \u001b[0mb\u001b[0m\u001b[1;33m=\u001b[0m\u001b[0ma\u001b[0m\u001b[1;33m+\u001b[0m\u001b[0mb\u001b[0m\u001b[1;33m\u001b[0m\u001b[1;33m\u001b[0m\u001b[0m\n\u001b[0;32m      9\u001b[0m \u001b[0mx\u001b[0m\u001b[1;33m=\u001b[0m\u001b[0mfibonacci\u001b[0m\u001b[1;33m(\u001b[0m\u001b[1;36m5\u001b[0m\u001b[1;33m)\u001b[0m\u001b[1;33m\u001b[0m\u001b[1;33m\u001b[0m\u001b[0m\n\u001b[1;32m---> 10\u001b[1;33m \u001b[0mprint\u001b[0m\u001b[1;33m(\u001b[0m\u001b[0mx\u001b[0m\u001b[1;33m.\u001b[0m\u001b[0mnext\u001b[0m\u001b[1;33m(\u001b[0m\u001b[1;33m)\u001b[0m\u001b[1;33m)\u001b[0m\u001b[1;33m\u001b[0m\u001b[1;33m\u001b[0m\u001b[0m\n\u001b[0m\u001b[0;32m     11\u001b[0m \u001b[0mprint\u001b[0m\u001b[1;33m(\u001b[0m\u001b[0mx\u001b[0m\u001b[1;33m.\u001b[0m\u001b[0mnext\u001b[0m\u001b[1;33m(\u001b[0m\u001b[1;33m)\u001b[0m\u001b[1;33m)\u001b[0m\u001b[1;33m\u001b[0m\u001b[1;33m\u001b[0m\u001b[0m\n\u001b[0;32m     12\u001b[0m \u001b[0mprint\u001b[0m\u001b[1;33m(\u001b[0m\u001b[0mx\u001b[0m\u001b[1;33m.\u001b[0m\u001b[0mnext\u001b[0m\u001b[1;33m(\u001b[0m\u001b[1;33m)\u001b[0m\u001b[1;33m)\u001b[0m\u001b[1;33m\u001b[0m\u001b[1;33m\u001b[0m\u001b[0m\n",
      "\u001b[1;31mAttributeError\u001b[0m: 'generator' object has no attribute 'next'"
     ]
    }
   ],
   "source": [
    "def fibonacci(n):\n",
    "    a,b=0,1\n",
    "    \n",
    "    while a<n:\n",
    "        yield a\n",
    "        \n",
    "        a=b\n",
    "        b=a+b\n",
    "x=fibonacci(5)\n",
    "print(x.next())\n",
    "print(x.next())\n",
    "print(x.next())\n",
    "print(x.next())\n",
    "print(x.next())\n"
   ]
  },
  {
   "cell_type": "code",
   "execution_count": 9,
   "id": "f0deb525",
   "metadata": {},
   "outputs": [
    {
     "name": "stdout",
     "output_type": "stream",
     "text": [
      "dog\n",
      "dog makes this sound\n"
     ]
    }
   ],
   "source": [
    "class animal:\n",
    "    def __init__(self,breed):\n",
    "        self.breed=breed\n",
    "        \n",
    "    def sound(self):\n",
    "        print(self.breed,\"makes this sound\")\n",
    "        \n",
    "class cat(animal):\n",
    "    pass\n",
    "        \n",
    "obj1=cat(\"dog\")\n",
    "print(obj1.breed)\n",
    "obj1.sound()\n"
   ]
  },
  {
   "cell_type": "code",
   "execution_count": 10,
   "id": "5b0dfdc9",
   "metadata": {},
   "outputs": [
    {
     "data": {
      "text/plain": [
       "False"
      ]
     },
     "execution_count": 10,
     "metadata": {},
     "output_type": "execute_result"
    }
   ],
   "source": [
    "obj3={}\n",
    "isinstance(obj3,animal)"
   ]
  },
  {
   "cell_type": "code",
   "execution_count": 11,
   "id": "9fb04cbc",
   "metadata": {},
   "outputs": [
    {
     "data": {
      "text/plain": [
       "'dog'"
      ]
     },
     "execution_count": 11,
     "metadata": {},
     "output_type": "execute_result"
    }
   ],
   "source": [
    "obj1.breed"
   ]
  },
  {
   "cell_type": "code",
   "execution_count": 12,
   "id": "1eee92fa",
   "metadata": {},
   "outputs": [
    {
     "data": {
      "text/plain": [
       "'lion'"
      ]
     },
     "execution_count": 12,
     "metadata": {},
     "output_type": "execute_result"
    }
   ],
   "source": [
    "obj1.breed='lion'\n",
    "obj1.breed"
   ]
  },
  {
   "cell_type": "code",
   "execution_count": 14,
   "id": "1cf88bf9",
   "metadata": {},
   "outputs": [],
   "source": [
    "obj3=animal('rat')"
   ]
  },
  {
   "cell_type": "code",
   "execution_count": 16,
   "id": "bb5b1158",
   "metadata": {},
   "outputs": [],
   "source": [
    "obj3.breed='kit'"
   ]
  },
  {
   "cell_type": "code",
   "execution_count": 17,
   "id": "aa7ca7dc",
   "metadata": {},
   "outputs": [
    {
     "data": {
      "text/plain": [
       "'kit'"
      ]
     },
     "execution_count": 17,
     "metadata": {},
     "output_type": "execute_result"
    }
   ],
   "source": [
    "obj3.breed"
   ]
  },
  {
   "cell_type": "code",
   "execution_count": 26,
   "id": "a794ed0f",
   "metadata": {},
   "outputs": [
    {
     "data": {
      "text/plain": [
       "'mice'"
      ]
     },
     "execution_count": 26,
     "metadata": {},
     "output_type": "execute_result"
    }
   ],
   "source": [
    "class student:\n",
    "    def __init__(self,name):\n",
    "        self.name=name\n",
    "        self.mail=name+'@123'\n",
    "        \n",
    "\n",
    "s1=student('mice')\n",
    "s1.name\n"
   ]
  },
  {
   "cell_type": "code",
   "execution_count": 27,
   "id": "5e77fd45",
   "metadata": {},
   "outputs": [
    {
     "data": {
      "text/plain": [
       "'mice@123'"
      ]
     },
     "execution_count": 27,
     "metadata": {},
     "output_type": "execute_result"
    }
   ],
   "source": [
    "s1.mail"
   ]
  },
  {
   "cell_type": "code",
   "execution_count": 34,
   "id": "e358c1e5",
   "metadata": {},
   "outputs": [
    {
     "name": "stdout",
     "output_type": "stream",
     "text": [
      "cin\n",
      "239.20000000000002\n"
     ]
    }
   ],
   "source": [
    "class mole:\n",
    "    raise_amount=1.04\n",
    "    def __init__(self,name,prize):\n",
    "        self.name=name\n",
    "        self.prize=prize\n",
    "        \n",
    "    def amount(self):\n",
    "        print(self.name)\n",
    "        print(self.prize*mole.raise_amount)\n",
    "        \n",
    "s1=mole('cin',230)\n",
    "s1.amount()\n",
    "    "
   ]
  },
  {
   "cell_type": "code",
   "execution_count": 35,
   "id": "51db2991",
   "metadata": {},
   "outputs": [
    {
     "name": "stdout",
     "output_type": "stream",
     "text": [
      "My name is Mike gpa is 8.9 club is slytherians\n"
     ]
    }
   ],
   "source": [
    "class student:\n",
    "    def __init__(self,name,gpa,club):\n",
    "        self.__name=name\n",
    "        self.__gpa=gpa\n",
    "        self.club=club\n",
    "        \n",
    "    def rep(self):\n",
    "        print('My name is',self.name,'gpa is',self.gpa,'club is',self.club)\n",
    "        \n",
    "s1=student('Mike',8.9,'slytherians')\n",
    "s1.rep()"
   ]
  },
  {
   "cell_type": "code",
   "execution_count": 39,
   "id": "170fa00c",
   "metadata": {},
   "outputs": [
    {
     "ename": "AttributeError",
     "evalue": "'Employee' object has no attribute 'name'",
     "output_type": "error",
     "traceback": [
      "\u001b[1;31m---------------------------------------------------------------------------\u001b[0m",
      "\u001b[1;31mAttributeError\u001b[0m                            Traceback (most recent call last)",
      "\u001b[1;32mC:\\Users\\SWETAN~1.GUP\\AppData\\Local\\Temp/ipykernel_12872/227590189.py\u001b[0m in \u001b[0;36m<module>\u001b[1;34m\u001b[0m\n\u001b[0;32m      6\u001b[0m \u001b[1;33m\u001b[0m\u001b[0m\n\u001b[0;32m      7\u001b[0m \u001b[0me1\u001b[0m\u001b[1;33m.\u001b[0m\u001b[0mname\u001b[0m \u001b[1;33m=\u001b[0m \u001b[1;34m'Jill”'\u001b[0m\u001b[1;33m\u001b[0m\u001b[1;33m\u001b[0m\u001b[0m\n\u001b[1;32m----> 8\u001b[1;33m \u001b[0mprint\u001b[0m\u001b[1;33m(\u001b[0m\u001b[0me2\u001b[0m\u001b[1;33m.\u001b[0m\u001b[0mname\u001b[0m\u001b[1;33m)\u001b[0m\u001b[1;33m\u001b[0m\u001b[1;33m\u001b[0m\u001b[0m\n\u001b[0m",
      "\u001b[1;31mAttributeError\u001b[0m: 'Employee' object has no attribute 'name'"
     ]
    }
   ],
   "source": [
    "class Employee:\n",
    "    pass\n",
    "\n",
    "e1 = Employee()\n",
    "e2 = Employee()\n",
    "\n",
    "e1.name = 'Jill”'\n",
    "print(e2.name)"
   ]
  },
  {
   "cell_type": "code",
   "execution_count": 11,
   "id": "c9e0aac4",
   "metadata": {},
   "outputs": [],
   "source": [
    "class shape:\n",
    "    def __init__(self,shape_type):\n",
    "        self.__shape=shape_type\n",
    "        \n",
    "        \n",
    "    def get_type(self):\n",
    "        return self.__shape\n",
    "    \n",
    "    \n",
    "    \n",
    "    def get_area(self):\n",
    "        pass\n",
    "    \n",
    "    def get_perimeter(self):\n",
    "        pass\n",
    "    \n"
   ]
  },
  {
   "cell_type": "code",
   "execution_count": 12,
   "id": "091a9c81",
   "metadata": {},
   "outputs": [
    {
     "data": {
      "text/plain": [
       "144"
      ]
     },
     "execution_count": 12,
     "metadata": {},
     "output_type": "execute_result"
    }
   ],
   "source": [
    "class square(shape):\n",
    "    def __init__(self,side):\n",
    "        shape.__init__(self,'square')\n",
    "        self.__side=side\n",
    "        \n",
    "    def get_area(self):\n",
    "        return self.__side*self.__side\n",
    "        \n",
    "        \n",
    "s=square(12)\n",
    "s.get_area()\n",
    "\n",
    "        "
   ]
  },
  {
   "cell_type": "code",
   "execution_count": 13,
   "id": "d52d477b",
   "metadata": {},
   "outputs": [
    {
     "data": {
      "text/plain": [
       "452.3893421169302"
      ]
     },
     "execution_count": 13,
     "metadata": {},
     "output_type": "execute_result"
    }
   ],
   "source": [
    "import math\n",
    "class circle(shape):\n",
    "    def __init__(self,radius):\n",
    "        shape.__init__(self,'circle')\n",
    "        self.__radius=radius\n",
    "    \n",
    "    def get_area(self):\n",
    "        return math.pi*self.__radius*self.__radius\n",
    "    \n",
    "    \n",
    "    def get_perimeter(self):\n",
    "        return 2*math.pi*radius\n",
    "    \n",
    "c=circle(12)\n",
    "c.get_area()"
   ]
  },
  {
   "cell_type": "code",
   "execution_count": 1,
   "id": "66585f63",
   "metadata": {},
   "outputs": [
    {
     "name": "stdout",
     "output_type": "stream",
     "text": [
      "s\n"
     ]
    }
   ],
   "source": [
    "print('s')"
   ]
  },
  {
   "cell_type": "code",
   "execution_count": 16,
   "id": "03f88be4",
   "metadata": {},
   "outputs": [
    {
     "data": {
      "text/plain": [
       "('LA', 'Dev', 'Mike')"
      ]
     },
     "execution_count": 16,
     "metadata": {},
     "output_type": "execute_result"
    }
   ],
   "source": [
    "#multilevel inheritence\n",
    "class grandparent:\n",
    "    def __init__(self,city):\n",
    "        self.__city=city\n",
    "        \n",
    "    def get_city(self):\n",
    "        return self.__city\n",
    "        \n",
    "class parent(grandparent):\n",
    "    def __init__(self,city,lastname):\n",
    "        grandparent.__init__(self,city)\n",
    "        self.__lastname=lastname\n",
    "    \n",
    "    def get_lastname(self):\n",
    "        return self.__lastname\n",
    "    \n",
    "class person(parent):\n",
    "    def __init__(self,city,lastname,firstname):\n",
    "        parent.__init__(self,city,lastname)\n",
    "        \n",
    "        self.__firstname=firstname\n",
    "        \n",
    "    def get_firstname(self):\n",
    "        return self.__firstname\n",
    "    \n",
    "p1=person('LA','Dev','Mike')\n",
    "\n",
    "p1.get_city(),p1.get_lastname(),p1.get_firstname()\n",
    "    \n",
    "\n",
    "        \n",
    "        "
   ]
  },
  {
   "cell_type": "code",
   "execution_count": 17,
   "id": "eef98a45",
   "metadata": {},
   "outputs": [
    {
     "name": "stdout",
     "output_type": "stream",
     "text": [
      "Help on person in module __main__ object:\n",
      "\n",
      "class person(parent)\n",
      " |  person(city, lastname, firstname)\n",
      " |  \n",
      " |  Method resolution order:\n",
      " |      person\n",
      " |      parent\n",
      " |      grandparent\n",
      " |      builtins.object\n",
      " |  \n",
      " |  Methods defined here:\n",
      " |  \n",
      " |  __init__(self, city, lastname, firstname)\n",
      " |      Initialize self.  See help(type(self)) for accurate signature.\n",
      " |  \n",
      " |  get_firstname(self)\n",
      " |  \n",
      " |  ----------------------------------------------------------------------\n",
      " |  Methods inherited from parent:\n",
      " |  \n",
      " |  get_lastname(self)\n",
      " |  \n",
      " |  ----------------------------------------------------------------------\n",
      " |  Methods inherited from grandparent:\n",
      " |  \n",
      " |  get_city(self)\n",
      " |  \n",
      " |  ----------------------------------------------------------------------\n",
      " |  Data descriptors inherited from grandparent:\n",
      " |  \n",
      " |  __dict__\n",
      " |      dictionary for instance variables (if defined)\n",
      " |  \n",
      " |  __weakref__\n",
      " |      list of weak references to the object (if defined)\n",
      "\n"
     ]
    }
   ],
   "source": [
    "help(p1)"
   ]
  },
  {
   "cell_type": "code",
   "execution_count": 18,
   "id": "d7680a91",
   "metadata": {},
   "outputs": [
    {
     "name": "stdout",
     "output_type": "stream",
     "text": [
      "Deposited amount:  100\n",
      "balance after deposit:  30100\n"
     ]
    }
   ],
   "source": [
    "class bankaccount():\n",
    "    def __init__(self,balance):\n",
    "        self.__balance=balance\n",
    "        \n",
    "    def deposit(self,value):\n",
    "        self.__balance=self.__balance + value\n",
    "        \n",
    "        print('Deposited amount: ',value)\n",
    "        print('balance after deposit: ',self.__balance)\n",
    "        \n",
    "    def withdrawal(self,value):\n",
    "        self.__balance=self.__balance - value\n",
    "        \n",
    "        print('withdrawal amount: ',value)\n",
    "        print('balance after withdrawal: ',self.__balance)\n",
    "        \n",
    "        \n",
    "b1=bankaccount(30000)\n",
    "b1.deposit(100)"
   ]
  },
  {
   "cell_type": "code",
   "execution_count": 21,
   "id": "54d785ff",
   "metadata": {},
   "outputs": [
    {
     "name": "stdout",
     "output_type": "stream",
     "text": [
      "Contact ur manager\n"
     ]
    }
   ],
   "source": [
    "class currentaccount(bankaccount):\n",
    "    def __init__(self,balance):\n",
    "        super().__init__(balance)\n",
    "        \n",
    "    def withdrawal(self,value):\n",
    "        if value>1000:\n",
    "            print('Contact ur manager')\n",
    "        else:\n",
    "            super().withdrawal(value)\n",
    "            \n",
    "c1=currentaccount(2000)\n",
    "c1.withdrawal(9000)"
   ]
  },
  {
   "cell_type": "code",
   "execution_count": null,
   "id": "9ea4aa1b",
   "metadata": {},
   "outputs": [],
   "source": []
  }
 ],
 "metadata": {
  "kernelspec": {
   "display_name": "Python 3 (ipykernel)",
   "language": "python",
   "name": "python3"
  },
  "language_info": {
   "codemirror_mode": {
    "name": "ipython",
    "version": 3
   },
   "file_extension": ".py",
   "mimetype": "text/x-python",
   "name": "python",
   "nbconvert_exporter": "python",
   "pygments_lexer": "ipython3",
   "version": "3.9.6"
  }
 },
 "nbformat": 4,
 "nbformat_minor": 5
}
