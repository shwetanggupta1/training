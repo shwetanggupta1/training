{
 "cells": [
  {
   "cell_type": "code",
   "execution_count": 29,
   "id": "d05ef045",
   "metadata": {},
   "outputs": [
    {
     "name": "stdout",
     "output_type": "stream",
     "text": [
      "[14, 21, 23, 45, 54, 76, 89]\n"
     ]
    }
   ],
   "source": [
    "def selection_sort(arr):\n",
    "    \n",
    "    for i in range(len(arr)):\n",
    "        min_value=i\n",
    "        \n",
    "        for j in range(i+1,len(arr)):\n",
    "            if arr[j]<arr[min_value]:\n",
    "                min_value=j\n",
    "        arr[i],arr[min_value]=arr[min_value],arr[i]\n",
    "    \n",
    "arr=[45,76,23,14,54,21,89]        \n",
    "selection_sort(arr)\n",
    "print(arr)\n",
    "            \n",
    "        "
   ]
  },
  {
   "cell_type": "code",
   "execution_count": 6,
   "id": "7917feb1",
   "metadata": {},
   "outputs": [
    {
     "name": "stdout",
     "output_type": "stream",
     "text": [
      "[1, 2, 3, 4, 6, 7, 9]\n"
     ]
    }
   ],
   "source": [
    "#bubble sort\n",
    "\n",
    "def bubble_sort(arr):\n",
    "    for i in range(len(arr)):\n",
    "        for j in range(len(arr)-i-1):\n",
    "            if arr[j]>arr[j+1]:\n",
    "                arr[j],arr[j+1]=arr[j+1],arr[j]\n",
    "    return arr\n",
    "\n",
    "arr=[4,3,1,7,6,9,2]\n",
    "print(bubble_sort(arr))\n",
    "    "
   ]
  },
  {
   "cell_type": "code",
   "execution_count": null,
   "id": "20e82e94",
   "metadata": {},
   "outputs": [],
   "source": [
    "#quick sort\n",
    "\n",
    "def quick_sort(arr):\n",
    "    "
   ]
  }
 ],
 "metadata": {
  "kernelspec": {
   "display_name": "Python 3 (ipykernel)",
   "language": "python",
   "name": "python3"
  },
  "language_info": {
   "codemirror_mode": {
    "name": "ipython",
    "version": 3
   },
   "file_extension": ".py",
   "mimetype": "text/x-python",
   "name": "python",
   "nbconvert_exporter": "python",
   "pygments_lexer": "ipython3",
   "version": "3.9.6"
  }
 },
 "nbformat": 4,
 "nbformat_minor": 5
}
